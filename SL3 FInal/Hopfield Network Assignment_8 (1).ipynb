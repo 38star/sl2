{
 "cells": [
  {
   "cell_type": "code",
   "execution_count": 16,
   "id": "0bd6e55e",
   "metadata": {},
   "outputs": [],
   "source": [
    "import numpy as np"
   ]
  },
  {
   "cell_type": "code",
   "execution_count": 26,
   "id": "58b3b4a9",
   "metadata": {},
   "outputs": [],
   "source": [
    "patterns = np.array([[1, 0, 1, 0],\n",
    "                     [0, 1, 0, 1],\n",
    "                     [1, 1, 1, 0],\n",
    "                     [0, 0, 0, 1]])"
   ]
  },
  {
   "cell_type": "code",
   "execution_count": 27,
   "id": "c648b8bb",
   "metadata": {},
   "outputs": [],
   "source": [
    "# Initialize weights matrix\n",
    "weights = np.zeros((len(patterns[0]), len(patterns[0])))"
   ]
  },
  {
   "cell_type": "code",
   "execution_count": 28,
   "id": "e211e099",
   "metadata": {},
   "outputs": [],
   "source": [
    "# Train the Hopfield Network\n",
    "for pattern in patterns:\n",
    "    pattern = pattern.reshape(-1, 1)\n",
    "    weights += np.dot(pattern, pattern.T)\n",
    "    np.fill_diagonal(weights, 0)"
   ]
  },
  {
   "cell_type": "code",
   "execution_count": 29,
   "id": "50c41e85",
   "metadata": {},
   "outputs": [
    {
     "name": "stdout",
     "output_type": "stream",
     "text": [
      "Pattern [1 0 1 0] recalled successfully.\n",
      "Pattern [0 1 0 1] recalled successfully.\n",
      "Pattern [1 1 1 0] recalled successfully.\n",
      "Pattern [0 0 0 1] recalled successfully.\n"
     ]
    }
   ],
   "source": [
    "# Test recall with stored patterns\n",
    "for pattern in patterns:\n",
    "    input_pattern = pattern.reshape(-1, 1)\n",
    "    for _ in range(5):  # Iterate a few times for potential convergence\n",
    "        recalled_pattern = np.sign(np.dot(weights, input_pattern))\n",
    "        if np.array_equal(recalled_pattern, input_pattern):\n",
    "            break\n",
    "        input_pattern = recalled_pattern\n",
    "\n",
    "    if np.array_equal(recalled_pattern, input_pattern):\n",
    "        print(f\"Pattern {pattern} recalled successfully.\")\n",
    "    else:\n",
    "        print(f\"Pattern {pattern} could not be recalled.\")"
   ]
  },
  {
   "cell_type": "code",
   "execution_count": null,
   "id": "94516e26",
   "metadata": {},
   "outputs": [],
   "source": []
  }
 ],
 "metadata": {
  "kernelspec": {
   "display_name": "Python 3 (ipykernel)",
   "language": "python",
   "name": "python3"
  },
  "language_info": {
   "codemirror_mode": {
    "name": "ipython",
    "version": 3
   },
   "file_extension": ".py",
   "mimetype": "text/x-python",
   "name": "python",
   "nbconvert_exporter": "python",
   "pygments_lexer": "ipython3",
   "version": "3.11.5"
  }
 },
 "nbformat": 4,
 "nbformat_minor": 5
}
